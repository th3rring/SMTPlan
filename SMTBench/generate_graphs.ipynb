{
 "cells": [
  {
   "cell_type": "code",
   "execution_count": 18,
   "id": "437b7b29-2fdb-4d78-ab85-39a1fee2a5d6",
   "metadata": {},
   "outputs": [],
   "source": [
    "import sqlite3\n",
    "import matplotlib.pyplot as plt"
   ]
  },
  {
   "cell_type": "code",
   "execution_count": 86,
   "id": "ed8c4313-0055-4a59-9187-f30f6803e87c",
   "metadata": {},
   "outputs": [],
   "source": [
    "date = \"2022_01_18\"\n",
    "time = \"15:18:55\"\n",
    "#time = \"16:10:27\"\n",
    "\n",
    "\n",
    "database = \"expt_{}-{}.db\".format(date,time)"
   ]
  },
  {
   "cell_type": "code",
   "execution_count": 87,
   "id": "bc8e49d3-8439-4552-8b90-b265ff922485",
   "metadata": {},
   "outputs": [],
   "source": [
    "con = sqlite3.connect(database)\n",
    "cur = con.cursor()"
   ]
  },
  {
   "cell_type": "code",
   "execution_count": 88,
   "id": "f490da05-777f-4bec-b604-bffd58443e66",
   "metadata": {},
   "outputs": [
    {
     "data": {
      "text/plain": [
       "<sqlite3.Cursor at 0x7f74abb96c70>"
      ]
     },
     "execution_count": 88,
     "metadata": {},
     "output_type": "execute_result"
    }
   ],
   "source": [
    "# Create new table for this experiment\n",
    "cur.execute(\"CREATE TABLE IF NOT EXISTS temp_expt AS SELECT * FROM experiments WHERE date=:date AND time=:time\", {\"date\": date, \"time\": time})"
   ]
  },
  {
   "cell_type": "code",
   "execution_count": 96,
   "id": "7aeaef2c-cbff-48f3-b588-9a01a832db20",
   "metadata": {},
   "outputs": [
    {
     "data": {
      "text/plain": [
       "{'whiskers': [<matplotlib.lines.Line2D at 0x7f74ab701fa0>,\n",
       "  <matplotlib.lines.Line2D at 0x7f74ab70b2b0>],\n",
       " 'caps': [<matplotlib.lines.Line2D at 0x7f74ab70b580>,\n",
       "  <matplotlib.lines.Line2D at 0x7f74ab70b850>],\n",
       " 'boxes': [<matplotlib.lines.Line2D at 0x7f74ab701cd0>],\n",
       " 'medians': [<matplotlib.lines.Line2D at 0x7f74ab70bb20>],\n",
       " 'fliers': [<matplotlib.lines.Line2D at 0x7f74ab70bdf0>],\n",
       " 'means': []}"
      ]
     },
     "execution_count": 96,
     "metadata": {},
     "output_type": "execute_result"
    },
    {
     "data": {
      "image/png": "[encoded data removed]",
      "text/plain": [
       "<Figure size 432x288 with 1 Axes>"
      ]
     },
     "metadata": {},
     "output_type": "display_data"
    }
   ],
   "source": [
    "sat_expts = [x[0] for x in cur.execute(\"SELECT total_time FROM temp_expt WHERE sat=1\").fetchall()]\n",
    "fig1, ax1 = plt.subplots()\n",
    "fig1.set_facecolor((1, 1, 1))\n",
    "ax1.set_title(\"Experiment {}-{} Solution Times\".format(date, time))\n",
    "ax1.set(ylabel='Time (s)')\n",
    "ax1.get_xaxis().set_visible(False)\n",
    "ax1.boxplot(sat_expts)"
   ]
  },
  {
   "cell_type": "code",
   "execution_count": 92,
   "id": "46b1e97d-1a06-47a1-af74-4d5812bc9375",
   "metadata": {},
   "outputs": [
    {
     "data": {
      "image/png": "[encoded data removed]",
      "text/plain": [
       "<Figure size 432x288 with 1 Axes>"
      ]
     },
     "metadata": {},
     "output_type": "display_data"
    }
   ],
   "source": [
    "num_sat_expts = len(sat_expts)\n",
    "num_total_expts = len(cur.execute(\"SELECT * FROM temp_expt\").fetchall())\n",
    "percentage_sat = num_sat_expts / float(num_total_expts) * 100\n",
    "\n",
    "fig2, ax2 = plt.subplots()\n",
    "fig2.set_facecolor((1, 1, 1))\n",
    "ax2.set_title(\"Experiment {}-{} SAT Percentage\".format(date, time))\n",
    "ax2.get_xaxis().set_visible(False)\n",
    "ax2.set_ylim([0,100])\n",
    "ax2.set_xlim([-1,1])\n",
    "bar = ax2.bar(0, percentage_sat)\n",
    "\n",
    "# Display percentage below top of bar\n",
    "for b in bar:\n",
    "    w = b.get_width()\n",
    "    h = b.get_height()\n",
    "    x, y = b.get_xy()\n",
    "     \n",
    "    ax2.text(x+w/2,\n",
    "             y+h*0.94,\n",
    "             str(percentage_sat)+'%',\n",
    "             ha='center',\n",
    "             weight='bold')"
   ]
  },
  {
   "cell_type": "code",
   "execution_count": null,
   "id": "8721d04f-af32-47e1-93ff-af9eb09a1eab",
   "metadata": {},
   "outputs": [],
   "source": []
  }
 ],
 "metadata": {
  "kernelspec": {
   "display_name": "Python 3 (ipykernel)",
   "language": "python",
   "name": "python3"
  },
  "language_info": {
   "codemirror_mode": {
    "name": "ipython",
    "version": 3
   },
   "file_extension": ".py",
   "mimetype": "text/x-python",
   "name": "python",
   "nbconvert_exporter": "python",
   "pygments_lexer": "ipython3",
   "version": "3.9.5"
  }
 },
 "nbformat": 4,
 "nbformat_minor": 5
}
