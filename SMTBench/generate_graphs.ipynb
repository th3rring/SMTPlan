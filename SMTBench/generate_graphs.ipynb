{
 "cells": [
  {
   "cell_type": "code",
   "execution_count": 174,
   "id": "437b7b29-2fdb-4d78-ab85-39a1fee2a5d6",
   "metadata": {},
   "outputs": [],
   "source": [
    "import sqlite3\n",
    "import matplotlib.pyplot as plt"
   ]
  },
  {
   "cell_type": "code",
   "execution_count": 175,
   "id": "ed8c4313-0055-4a59-9187-f30f6803e87c",
   "metadata": {},
   "outputs": [],
   "source": [
    "date = \"2022_01_21\"\n",
    "\n",
    "# Experiment time for first 3 block solution\n",
    "#time = \"12:53:11\"\n",
    "\n",
    "time = \"10:07:31\"\n",
    "\n",
    "database = \"experiments/expt_{}-{}.db\".format(date,time)"
   ]
  },
  {
   "cell_type": "code",
   "execution_count": 176,
   "id": "bc8e49d3-8439-4552-8b90-b265ff922485",
   "metadata": {},
   "outputs": [],
   "source": [
    "con = sqlite3.connect(database)\n",
    "cur = con.cursor()"
   ]
  },
  {
   "cell_type": "code",
   "execution_count": 177,
   "id": "f490da05-777f-4bec-b604-bffd58443e66",
   "metadata": {},
   "outputs": [
    {
     "data": {
      "text/plain": [
       "<sqlite3.Cursor at 0x7f74ab074ab0>"
      ]
     },
     "execution_count": 177,
     "metadata": {},
     "output_type": "execute_result"
    }
   ],
   "source": [
    "# Create new table for this experiment\n",
    "cur.execute(\"CREATE TABLE IF NOT EXISTS temp_expt AS SELECT * FROM experiments WHERE date=:date AND time=:time\", {\"date\": date, \"time\": time})"
   ]
  },
  {
   "cell_type": "code",
   "execution_count": 178,
   "id": "7aeaef2c-cbff-48f3-b588-9a01a832db20",
   "metadata": {},
   "outputs": [
    {
     "data": {
      "text/plain": [
       "{'whiskers': [<matplotlib.lines.Line2D at 0x7f74aaf02c70>,\n",
       "  <matplotlib.lines.Line2D at 0x7f74aaf02f40>],\n",
       " 'caps': [<matplotlib.lines.Line2D at 0x7f74aaf11250>,\n",
       "  <matplotlib.lines.Line2D at 0x7f74aaf11520>],\n",
       " 'boxes': [<matplotlib.lines.Line2D at 0x7f74aaf029a0>],\n",
       " 'medians': [<matplotlib.lines.Line2D at 0x7f74aaf117f0>],\n",
       " 'fliers': [<matplotlib.lines.Line2D at 0x7f74aaf11ac0>],\n",
       " 'means': []}"
      ]
     },
     "execution_count": 178,
     "metadata": {},
     "output_type": "execute_result"
    },
    {
     "data": {
      "image/png": "[encoded data removed]",
      "text/plain": [
       "<Figure size 432x288 with 1 Axes>"
      ]
     },
     "metadata": {},
     "output_type": "display_data"
    }
   ],
   "source": [
    "sat_expts = [x[0] for x in cur.execute(\"SELECT total_time FROM temp_expt WHERE sat=1\").fetchall()]\n",
    "fig1, ax1 = plt.subplots()\n",
    "fig1.set_facecolor((1, 1, 1))\n",
    "ax1.set_title(\"Experiment {}-{} Solution Times\".format(date, time))\n",
    "ax1.set(ylabel='Time (s)')\n",
    "ax1.get_xaxis().set_visible(False)\n",
    "ax1.boxplot(sat_expts)\n"
   ]
  },
  {
   "cell_type": "code",
   "execution_count": 179,
   "id": "46b1e97d-1a06-47a1-af74-4d5812bc9375",
   "metadata": {},
   "outputs": [
    {
     "data": {
      "image/png": "[encoded data removed]",
      "text/plain": [
       "<Figure size 432x288 with 1 Axes>"
      ]
     },
     "metadata": {},
     "output_type": "display_data"
    }
   ],
   "source": [
    "num_sat_expts = len(sat_expts)\n",
    "num_total_expts = len(cur.execute(\"SELECT * FROM temp_expt\").fetchall())\n",
    "percentage_sat = num_sat_expts / float(num_total_expts) * 100\n",
    "\n",
    "fig2, ax2 = plt.subplots()\n",
    "fig2.set_facecolor((1, 1, 1))\n",
    "ax2.set_title(\"Experiment {}-{} SAT Percentage\".format(date, time))\n",
    "ax2.get_xaxis().set_visible(False)\n",
    "ax2.set_ylim([0,100])\n",
    "ax2.set_xlim([-1,1])\n",
    "bar = ax2.bar(0, percentage_sat)\n",
    "\n",
    "# Display percentage below top of bar\n",
    "for b in bar:\n",
    "    w = b.get_width()\n",
    "    h = b.get_height()\n",
    "    x, y = b.get_xy()\n",
    "     \n",
    "    ax2.text(x+w/2,\n",
    "             y+h*0.94,\n",
    "             str(percentage_sat)+'%',\n",
    "             ha='center',\n",
    "             weight='bold')"
   ]
  },
  {
   "cell_type": "code",
   "execution_count": 173,
   "id": "8721d04f-af32-47e1-93ff-af9eb09a1eab",
   "metadata": {},
   "outputs": [
    {
     "name": "stdout",
     "output_type": "stream",
     "text": [
      "Grounded: 0.001560 \n",
      "Algebra: 0.000065 \n",
      "Encoded 1: 0.000939 \n",
      "1\n",
      "UNSAT Solution 1: 0.000442 \n",
      "Encoded 2: 0.000290 \n",
      "2\n",
      "UNSAT Solution 2: 0.000673 \n",
      "Encoded 3: 0.000294 \n",
      "3\n",
      "UNSAT Solution 3: 0.001204 \n",
      "Encoded 4: 0.000314 \n",
      "0.0:\t(pick-from-conveyor a) [3.0]\n",
      "5.0:\t(place a goal) [6.0]\n",
      "SAT Solution: 0.003590 \n",
      "Total time: 0.011787 \n",
      "\n"
     ]
    }
   ],
   "source": [
    "expt_logs = cur.execute(\"SELECT log FROM temp_expt\").fetchall()\n",
    "print(expt_logs[0][0])"
   ]
  },
  {
   "cell_type": "code",
   "execution_count": null,
   "id": "9afb4756-3229-4848-8afa-5538b76a8132",
   "metadata": {},
   "outputs": [],
   "source": []
  },
  {
   "cell_type": "code",
   "execution_count": null,
   "id": "642b27ba-8915-44e2-8d69-c52c89c02849",
   "metadata": {},
   "outputs": [],
   "source": []
  }
 ],
 "metadata": {
  "kernelspec": {
   "display_name": "Python 3 (ipykernel)",
   "language": "python",
   "name": "python3"
  },
  "language_info": {
   "codemirror_mode": {
    "name": "ipython",
    "version": 3
   },
   "file_extension": ".py",
   "mimetype": "text/x-python",
   "name": "python",
   "nbconvert_exporter": "python",
   "pygments_lexer": "ipython3",
   "version": "3.9.5"
  }
 },
 "nbformat": 4,
 "nbformat_minor": 5
}
